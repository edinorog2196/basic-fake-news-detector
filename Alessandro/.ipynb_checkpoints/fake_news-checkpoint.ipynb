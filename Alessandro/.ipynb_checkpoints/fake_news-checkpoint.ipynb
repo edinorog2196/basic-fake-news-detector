{
 "cells": [
  {
   "cell_type": "markdown",
   "metadata": {},
   "source": [
    "# Fake News Detection ML code"
   ]
  },
  {
   "cell_type": "markdown",
   "metadata": {},
   "source": [
    "Careful to have at least 6 GB of RAM availabe when you start the code. You may run into problem with large dataset.\n",
    "\n"
   ]
  },
  {
   "cell_type": "markdown",
   "metadata": {},
   "source": [
    "## Import packages"
   ]
  },
  {
   "cell_type": "code",
   "execution_count": 1,
   "metadata": {},
   "outputs": [],
   "source": [
    "import numpy as np\n",
    "import pandas as pd   #data storage\n",
    "import itertools\n",
    "\n",
    "#Useful functions\n",
    "from sklearn.model_selection import train_test_split\n",
    "from sklearn.metrics import accuracy_score, confusion_matrix\n",
    "\n",
    "#Preprocessors\n",
    "from sklearn.feature_extraction.text import TfidfVectorizer\n",
    "#try also the more complex spacy\n",
    "\n",
    "#Link for a full list of classifiers in sklearn\n",
    "#https://scikit-learn.org/stable/search.html?q=classifier\n",
    "\n",
    "#DIFFERENT CLASSIFIERS\n",
    "from sklearn.linear_model import PassiveAggressiveClassifier \n",
    "from sklearn.svm import SVC,LinearSVC\n",
    "from sklearn.naive_bayes import MultinomialNB\n",
    "from sklearn.naive_bayes import ComplementNB\n",
    "from sklearn.ensemble import RandomForestClassifier,ExtraTreesClassifier\n",
    "from sklearn.tree import DecisionTreeClassifier\n",
    "from sklearn.neighbors import KNeighborsClassifier\n",
    "from sklearn.neural_network import MLPClassifier\n",
    "from sklearn.linear_model import LogisticRegression\n",
    "\n",
    "# \n",
    "\n",
    "# Passive Aggressive Classifier: 92.82% for max_iter=50\n",
    "#pac=PassiveAggressiveClassifier(max_iter=50)\n",
    "\n",
    "# Multinomial Bayes Classifier (keeping Alpha small but >0 seems to be good, over 90% accuracy\n",
    "#pac=MultinomialNB(alpha=0.01)\n",
    "\n",
    "# Decision Tree Classifier: around 80% on the first try\n",
    "#pac = DecisionTreeClassifier()\n",
    "\n",
    "# Random Forest Classifier: 90.69% on the first try\n",
    "#pac = RandomForestClassifier()\n",
    "\n",
    "# K Neighbors Classifier: 56.12% on the first try\n",
    "#pac = KNeighborsClassifier()\n",
    "\n",
    "# MLP Classifier: much longer computation time but also 92.82% accuracy\n",
    "#pac = MLPClassifier()\n",
    "\n",
    "\n",
    "import gc\n",
    "import time\n",
    "import subprocess\n",
    "import matplotlib as mpl\n",
    "from matplotlib import pyplot as plt\n",
    "import subprocess\n",
    "from matplotlib import rc \n",
    "rc('text', usetex=True)"
   ]
  },
  {
   "cell_type": "markdown",
   "metadata": {},
   "source": [
    "## Reading the dataset of news"
   ]
  },
  {
   "cell_type": "code",
   "execution_count": 2,
   "metadata": {},
   "outputs": [
    {
     "name": "stdout",
     "output_type": "stream",
     "text": [
      "                                                   title  \\\n",
      "0      As U.S. budget fight looms. Republicans flip t...   \n",
      "1      U.S. military to accept transgender recruits o...   \n",
      "2      Senior U.S. Republican senator: 'Let Mr. Muell...   \n",
      "3      FBI Russia probe helped by Australian diplomat...   \n",
      "4      Trump wants Postal Service to charge 'much mor...   \n",
      "...                                                  ...   \n",
      "14995  Trump’s personal lawyer Rudy Giuliani took vie...   \n",
      "14996  Charles G. Koch. one of the Republicans’ bigge...   \n",
      "14997  An experiment involving 34 dogs of various bre...   \n",
      "14998  Not getting shot adds to the magic of visiting...   \n",
      "14999  Cody Wilson has pushed for the blueprints for ...   \n",
      "\n",
      "                                                 article  value  \n",
      "0      WASHINGTON (Reuters) - The head of a conservat...      1  \n",
      "1      WASHINGTON (Reuters) - Transgender people will...      1  \n",
      "2      WASHINGTON (Reuters) - The special counsel inv...      1  \n",
      "3      WASHINGTON (Reuters) - Trump campaign adviser ...      1  \n",
      "4      SEATTLE/WASHINGTON (Reuters) - President Donal...      1  \n",
      "...                                                  ...    ...  \n",
      "14995  Trump’s personal lawyer Rudy Giuliani took vie...      1  \n",
      "14996  Charles G. Koch. one of the Republicans’ bigge...      1  \n",
      "14997  An experiment involving 34 dogs of various bre...      1  \n",
      "14998  Not getting shot adds to the magic of visiting...      1  \n",
      "14999  Cody Wilson has pushed for the blueprints for ...      1  \n",
      "\n",
      "[74000 rows x 3 columns]\n"
     ]
    }
   ],
   "source": [
    "#Read the data\n",
    "df1=pd.read_excel('../Dataset/training.xlsx')\n",
    "df2=pd.read_excel('../Dataset/test.xlsx')\n",
    "\n",
    "df=pd.concat([df1,df2])\n",
    "print(df)\n",
    "\n",
    "#Get shape and head\n",
    "df.shape\n",
    "df.head()\n",
    "\n",
    "#DataFlair - Get the labels\n",
    "real_or_fake=df.value\n",
    "titles=df.title\n",
    "articles=df.article\n",
    "\n",
    "N_news=len(articles)"
   ]
  },
  {
   "cell_type": "code",
   "execution_count": 17,
   "metadata": {},
   "outputs": [],
   "source": [
    "Nt=10\n",
    "train_sizes = np.logspace(np.log10(0.001),np.log10(0.99),Nt)\n",
    "rs=7 #random state to shuffle the news. One should average over these"
   ]
  },
  {
   "cell_type": "markdown",
   "metadata": {},
   "source": [
    "# Tfidf preprocessor"
   ]
  },
  {
   "cell_type": "markdown",
   "metadata": {},
   "source": [
    "## Analysis with PAC"
   ]
  },
  {
   "cell_type": "code",
   "execution_count": 4,
   "metadata": {},
   "outputs": [
    {
     "name": "stdout",
     "output_type": "stream",
     "text": [
      "# training news: 74 (0.10 % of total) accuracy: 78.28 % 31219 5227 10830 26650 time: 25\n",
      "# training news: 159 (0.22 % of total) accuracy: 81.98 % 31177 5230 8078 29356 time: 25\n",
      "# training news: 343 (0.46 % of total) accuracy: 87.11 % 32392 3926 5571 31769 time: 24\n",
      "# training news: 738 (1.00 % of total) accuracy: 90.28 % 32821 3311 3810 33321 time: 25\n",
      "# training news: 1587 (2.14 % of total) accuracy: 92.97 % 33391 2299 2789 33934 time: 26\n",
      "# training news: 3416 (4.62 % of total) accuracy: 94.69 % 32719 2078 1668 34120 time: 26\n",
      "# training news: 7351 (9.93 % of total) accuracy: 95.56 % 31187 1661 1297 32505 time: 24\n",
      "# training news: 15819 (21.38 % of total) accuracy: 96.46 % 27514 1163 898 28607 time: 24\n",
      "# training news: 34042 (46.00 % of total) accuracy: 97.32 % 19064 578 494 19822 time: 25\n",
      "# training news: 73260 (99.00 % of total) accuracy: 98.38 % 359 10 2 369 time: 25\n"
     ]
    },
    {
     "data": {
      "text/plain": [
       "0"
      ]
     },
     "execution_count": 4,
     "metadata": {},
     "output_type": "execute_result"
    }
   ],
   "source": [
    "\n",
    "accuracies_PAC = []\n",
    "tns = []\n",
    "fps = [] \n",
    "fns = []\n",
    "tps = []\n",
    "times_PAC=[]\n",
    "for ts in train_sizes: \n",
    "    start = time.time()\n",
    "    #use both articles and titles\n",
    "    x_train,x_test,y_train,y_test = \\\n",
    "        train_test_split(articles+titles,real_or_fake,train_size=ts, random_state=rs)\n",
    "\n",
    "    #DataFlair - Initialize a TfidfVectorizer\n",
    "    #we need to check the impact of max_df\n",
    "    tfidf_vectorizer=TfidfVectorizer(stop_words='english', max_df=0.7)\n",
    "\n",
    "    #DataFlair - Fit and transform train set, transform test set\n",
    "    tfidf_train=tfidf_vectorizer.fit_transform(x_train.values.astype('U')) \n",
    "    tfidf_test=tfidf_vectorizer.transform(x_test.values.astype('U'))\n",
    "\n",
    "    #DataFlair - Initialize a PassiveAggressiveClassifier\n",
    "    \n",
    "    #We need to check the impact of max_iter\n",
    "    pac=PassiveAggressiveClassifier(max_iter=50,n_jobs=-1)\n",
    "    pac.fit(tfidf_train,y_train)\n",
    "\n",
    "    #DataFlair - Predict on the test set and calculate accuracy\n",
    "    y_pred=pac.predict(tfidf_test)\n",
    "    score=accuracy_score(y_test,y_pred)\n",
    "    end=time.time()\n",
    "    times_PAC.append(end-start)\n",
    "    accuracy= score*100.\n",
    "    accuracies_PAC.append(accuracy)\n",
    "    \n",
    "    n_t=N_news*ts\n",
    "\n",
    "\n",
    "    #DataFlair - Build confusion matrix\n",
    "    c_m=confusion_matrix(y_test,y_pred, labels=[0,1])\n",
    "    tn, fp, fn, tp = c_m.ravel()\n",
    "    tns.append(tn)\n",
    "    fps.append(fp)\n",
    "    fns.append(fn)\n",
    "    tps.append(tp)\n",
    "    print(\"# training news: %.f\" % n_t,\\\n",
    "         \"(%.2f %% of total)\" % (ts*100.),\\\n",
    "         \"accuracy: %.2f %%\" % accuracy ,tn, fp, fn, tp , \"time: %.f\" % (end-start) )\n",
    "    del x_train,x_test,y_train,y_test \n",
    "    del y_pred\n",
    "    del tfidf_train, tfidf_test\n",
    "    gc.collect()\n",
    "gc.collect()      "
   ]
  },
  {
   "cell_type": "markdown",
   "metadata": {},
   "source": [
    "## Analysis with TfidfV and LinSVC"
   ]
  },
  {
   "cell_type": "code",
   "execution_count": 5,
   "metadata": {},
   "outputs": [
    {
     "name": "stdout",
     "output_type": "stream",
     "text": [
      "# training news: 74 (0.10 % of total) accuracy: 81.54 % 28035 8411 5233 32247 time: 23\n",
      "# training news: 159 (0.22 % of total) accuracy: 84.26 % 29118 7289 4331 33103 time: 23\n",
      "# training news: 343 (0.46 % of total) accuracy: 89.34 % 31691 4627 3226 34114 time: 23\n",
      "# training news: 738 (1.00 % of total) accuracy: 91.14 % 31965 4167 2325 34806 time: 23\n",
      "# training news: 1587 (2.14 % of total) accuracy: 93.39 % 32803 2887 1898 34825 time: 24\n",
      "# training news: 3416 (4.62 % of total) accuracy: 94.78 % 32312 2485 1198 34590 time: 24\n",
      "# training news: 7351 (9.93 % of total) accuracy: 95.69 % 30954 1894 979 32823 time: 25\n",
      "# training news: 15819 (21.38 % of total) accuracy: 96.65 % 27415 1262 689 28816 time: 25\n",
      "# training news: 34042 (46.00 % of total) accuracy: 97.47 % 19018 624 388 19928 time: 25\n",
      "# training news: 73260 (99.00 % of total) accuracy: 97.84 % 357 12 4 367 time: 26\n"
     ]
    },
    {
     "data": {
      "text/plain": [
       "0"
      ]
     },
     "execution_count": 5,
     "metadata": {},
     "output_type": "execute_result"
    }
   ],
   "source": [
    "accuracies_LinSVC = []\n",
    "tns = []\n",
    "fps = [] \n",
    "fns = []\n",
    "tps = []\n",
    "times_LinSVC=[]\n",
    "for ts in train_sizes: \n",
    "    start = time.time()\n",
    "    #use both articles and titles\n",
    "    x_train,x_test,y_train,y_test = \\\n",
    "        train_test_split(articles+titles,real_or_fake,train_size=ts, random_state=rs)\n",
    "\n",
    "    #DataFlair - Initialize a TfidfVectorizer\n",
    "    #we need to check the impact of max_df\n",
    "    tfidf_vectorizer=TfidfVectorizer(stop_words='english', max_df=0.7)\n",
    "\n",
    "    #DataFlair - Fit and transform train set, transform test set\n",
    "    tfidf_train=tfidf_vectorizer.fit_transform(x_train.values.astype('U')) \n",
    "    tfidf_test=tfidf_vectorizer.transform(x_test.values.astype('U'))\n",
    "\n",
    "    #DataFlair - Initialize a PassiveAggressiveClassifier\n",
    "    \n",
    "    #We need to check the impact of max_iter\n",
    "    pac=LinearSVC(max_iter=50)\n",
    "    pac.fit(tfidf_train,y_train)\n",
    "\n",
    "    #DataFlair - Predict on the test set and calculate accuracy\n",
    "    y_pred=pac.predict(tfidf_test)\n",
    "    score=accuracy_score(y_test,y_pred)\n",
    "    \n",
    "    end=time.time()\n",
    "    times_LinSVC.append(end-start)\n",
    "    \n",
    "    accuracy= score*100.\n",
    "    accuracies_LinSVC.append(accuracy)\n",
    "    \n",
    "    n_t=N_news*ts\n",
    "    \n",
    "    #DataFlair - Build confusion matrix\n",
    "    c_m=confusion_matrix(y_test,y_pred, labels=[0,1])\n",
    "    tn, fp, fn, tp = c_m.ravel()\n",
    "    tns.append(tn)\n",
    "    fps.append(fp)\n",
    "    fns.append(fn)\n",
    "    tps.append(tp)\n",
    "    print(\"# training news: %.f\" % n_t,\\\n",
    "         \"(%.2f %% of total)\" % (ts*100.),\\\n",
    "         \"accuracy: %.2f %%\" % accuracy ,tn, fp, fn, tp , \"time: %.f\" % (end-start) )\n",
    "    del x_train,x_test,y_train,y_test \n",
    "    del y_pred\n",
    "    del tfidf_train, tfidf_test\n",
    "    gc.collect()\n",
    "gc.collect()         "
   ]
  },
  {
   "cell_type": "markdown",
   "metadata": {},
   "source": [
    "# Analysis with TfidfV and SVCrbf"
   ]
  },
  {
   "cell_type": "markdown",
   "metadata": {},
   "source": [
    "Longer computation time and less accuracy in 100 iterations, unsatisfactory so far"
   ]
  },
  {
   "cell_type": "markdown",
   "metadata": {},
   "source": [
    "accuracies_rbfSVC = []\n",
    "tns = []\n",
    "fps = [] \n",
    "fns = []\n",
    "tps = []\n",
    "times_rbfSVC=[]\n",
    "for ts in train_sizes: \n",
    "    start = time.time()\n",
    "    #use both articles and titles\n",
    "    x_train,x_test,y_train,y_test = \\\n",
    "        train_test_split(articles+titles,real_or_fake,train_size=ts, random_state=rs)\n",
    "\n",
    "    #DataFlair - Initialize a TfidfVectorizer\n",
    "    #we need to check the impact of max_df\n",
    "    tfidf_vectorizer=TfidfVectorizer(stop_words='english', max_df=0.7)\n",
    "\n",
    "    #DataFlair - Fit and transform train set, transform test set\n",
    "    tfidf_train=tfidf_vectorizer.fit_transform(x_train.values.astype('U')) \n",
    "    tfidf_test=tfidf_vectorizer.transform(x_test.values.astype('U'))\n",
    "\n",
    "    #DataFlair - Initialize a PassiveAggressiveClassifier\n",
    "    \n",
    "    #We need to check the impact of max_iter\n",
    "    pac=SVC(kernel='rbf',max_iter=100)\n",
    "    pac.fit(tfidf_train,y_train)\n",
    "\n",
    "    #DataFlair - Predict on the test set and calculate accuracy\n",
    "    y_pred=pac.predict(tfidf_test)\n",
    "    score=accuracy_score(y_test,y_pred)\n",
    "    \n",
    "    end=time.time()\n",
    "    times_rbfSVC.append(end-start)\n",
    "    \n",
    "    accuracy= score*100.\n",
    "    accuracies_rbfSVC.append(accuracy)\n",
    "    \n",
    "    n_t=N_news*ts\n",
    "    \n",
    "    #DataFlair - Build confusion matrix\n",
    "    c_m=confusion_matrix(y_test,y_pred, labels=[0,1])\n",
    "    tn, fp, fn, tp = c_m.ravel()\n",
    "    tns.append(tn)\n",
    "    fps.append(fp)\n",
    "    fns.append(fn)\n",
    "    tps.append(tp)\n",
    "    print(\"# training news: %.f\" % n_t,\\\n",
    "         \"(%.2f %% of total)\" % (ts*100.),\\\n",
    "         \"accuracy: %.2f %%\" % accuracy ,tn, fp, fn, tp , \"time: %.f\" % (end-start) )\n",
    "    del x_train,x_test,y_train,y_test \n",
    "    del y_pred\n",
    "    del tfidf_train, tfidf_test\n",
    "    gc.collect()\n",
    "gc.collect()       "
   ]
  },
  {
   "cell_type": "markdown",
   "metadata": {},
   "source": [
    "## Multinomial Naive Bayes Classifier ($\\alpha$)"
   ]
  },
  {
   "cell_type": "code",
   "execution_count": 7,
   "metadata": {},
   "outputs": [
    {
     "name": "stdout",
     "output_type": "stream",
     "text": [
      "# training news: 74 (0.10 % of total) accuracy: 65.20 % 34297 2149 23574 13906 time: 24\n",
      "# training news: 159 (0.22 % of total) accuracy: 73.57 % 32810 3597 15922 21512 time: 24\n",
      "# training news: 343 (0.46 % of total) accuracy: 75.77 % 34330 1988 15857 21483 time: 25\n",
      "# training news: 738 (1.00 % of total) accuracy: 79.32 % 33917 2215 12939 24192 time: 26\n",
      "# training news: 1587 (2.14 % of total) accuracy: 80.95 % 33813 1877 11919 24804 time: 27\n",
      "# training news: 3416 (4.62 % of total) accuracy: 83.84 % 32796 2001 9407 26381 time: 27\n",
      "# training news: 7351 (9.93 % of total) accuracy: 85.85 % 31100 1748 7681 26121 time: 26\n",
      "# training news: 15819 (21.38 % of total) accuracy: 87.87 % 27082 1595 5464 24041 time: 28\n",
      "# training news: 34042 (46.00 % of total) accuracy: 89.97 % 18615 1027 2979 17337 time: 28\n",
      "# training news: 73260 (99.00 % of total) accuracy: 95.27 % 360 9 26 345 time: 28\n"
     ]
    },
    {
     "data": {
      "text/plain": [
       "0"
      ]
     },
     "execution_count": 7,
     "metadata": {},
     "output_type": "execute_result"
    }
   ],
   "source": [
    "accuracies_MBC = []\n",
    "tns = []\n",
    "fps = [] \n",
    "fns = []\n",
    "tps = []\n",
    "times_MBC=[]\n",
    "alphaMBC=0.001\n",
    "\n",
    "for ts in train_sizes: \n",
    "    start = time.time()\n",
    "    #use both articles and titles\n",
    "    x_train,x_test,y_train,y_test = \\\n",
    "        train_test_split(articles+titles,real_or_fake,train_size=ts, random_state=rs)\n",
    "\n",
    "    #DataFlair - Initialize a TfidfVectorizer\n",
    "    #we need to check the impact of max_df\n",
    "    tfidf_vectorizer=TfidfVectorizer(stop_words='english', max_df=0.7)\n",
    "\n",
    "    #DataFlair - Fit and transform train set, transform test set\n",
    "    tfidf_train=tfidf_vectorizer.fit_transform(x_train.values.astype('U')) \n",
    "    tfidf_test=tfidf_vectorizer.transform(x_test.values.astype('U'))\n",
    "\n",
    "    #DataFlair - Initialize a PassiveAggressiveClassifier\n",
    "    \n",
    "    #We need to check the impact of max_iter\n",
    "    pac=MultinomialNB(alpha=alphaMBC)\n",
    "    pac.fit(tfidf_train,y_train)\n",
    "\n",
    "    #DataFlair - Predict on the test set and calculate accuracy\n",
    "    y_pred=pac.predict(tfidf_test)\n",
    "    score=accuracy_score(y_test,y_pred)\n",
    "    \n",
    "    end=time.time()\n",
    "    times_MBC.append(end-start)\n",
    "    \n",
    "    accuracy= score*100.\n",
    "    accuracies_MBC.append(accuracy)\n",
    "    \n",
    "    n_t=N_news*ts\n",
    "    \n",
    "    #DataFlair - Build confusion matrix\n",
    "    c_m=confusion_matrix(y_test,y_pred, labels=[0,1])\n",
    "    tn, fp, fn, tp = c_m.ravel()\n",
    "    tns.append(tn)\n",
    "    fps.append(fp)\n",
    "    fns.append(fn)\n",
    "    tps.append(tp)\n",
    "    print(\"# training news: %.f\" % n_t,\\\n",
    "         \"(%.2f %% of total)\" % (ts*100.),\\\n",
    "         \"accuracy: %.2f %%\" % accuracy ,tn, fp, fn, tp , \"time: %.f\" % (end-start) )\n",
    "    del x_train,x_test,y_train,y_test \n",
    "    del y_pred\n",
    "    del tfidf_train, tfidf_test\n",
    "    gc.collect()\n",
    "gc.collect()     "
   ]
  },
  {
   "cell_type": "markdown",
   "metadata": {},
   "source": [
    "## Complement Naive Bayes Classifier ($\\alpha$)"
   ]
  },
  {
   "cell_type": "code",
   "execution_count": 9,
   "metadata": {},
   "outputs": [
    {
     "name": "stdout",
     "output_type": "stream",
     "text": [
      "# training news: 74 (0.10 % of total) accuracy: 65.73 % 35158 1288 24045 13435 time: 25\n",
      "# training news: 159 (0.22 % of total) accuracy: 74.05 % 33687 2720 16442 20992 time: 25\n",
      "# training news: 343 (0.46 % of total) accuracy: 75.36 % 34383 1935 16212 21128 time: 25\n",
      "# training news: 738 (1.00 % of total) accuracy: 78.87 % 34002 2130 13351 23780 time: 25\n",
      "# training news: 1587 (2.14 % of total) accuracy: 80.92 % 33816 1874 11942 24781 time: 26\n",
      "# training news: 3416 (4.62 % of total) accuracy: 83.76 % 32823 1974 9491 26297 time: 25\n",
      "# training news: 7351 (9.93 % of total) accuracy: 85.77 % 31126 1722 7760 26042 time: 26\n",
      "# training news: 15819 (21.38 % of total) accuracy: 87.77 % 27101 1576 5539 23966 time: 27\n",
      "# training news: 34042 (46.00 % of total) accuracy: 89.90 % 18624 1018 3019 17297 time: 29\n",
      "# training news: 73260 (99.00 % of total) accuracy: 95.41 % 361 8 26 345 time: 28\n"
     ]
    },
    {
     "data": {
      "text/plain": [
       "0"
      ]
     },
     "execution_count": 9,
     "metadata": {},
     "output_type": "execute_result"
    }
   ],
   "source": [
    "accuracies_CBC = []\n",
    "tns = []\n",
    "fps = [] \n",
    "fns = []\n",
    "tps = []\n",
    "times_CBC=[]\n",
    "alphaCBC=0.001\n",
    "\n",
    "for ts in train_sizes: \n",
    "    start = time.time()\n",
    "    #use both articles and titles\n",
    "    x_train,x_test,y_train,y_test = \\\n",
    "        train_test_split(articles+titles,real_or_fake,train_size=ts, random_state=rs)\n",
    "\n",
    "    #DataFlair - Initialize a TfidfVectorizer\n",
    "    #we need to check the impact of max_df\n",
    "    tfidf_vectorizer=TfidfVectorizer(stop_words='english', max_df=0.7)\n",
    "\n",
    "    #DataFlair - Fit and transform train set, transform test set\n",
    "    tfidf_train=tfidf_vectorizer.fit_transform(x_train.values.astype('U')) \n",
    "    tfidf_test=tfidf_vectorizer.transform(x_test.values.astype('U'))\n",
    "\n",
    "    #DataFlair - Initialize a PassiveAggressiveClassifier\n",
    "    \n",
    "    #We need to check the impact of max_iter\n",
    "    pac=ComplementNB(alpha=alphaCBC)\n",
    "    pac.fit(tfidf_train,y_train)\n",
    "\n",
    "    #DataFlair - Predict on the test set and calculate accuracy\n",
    "    y_pred=pac.predict(tfidf_test)\n",
    "    score=accuracy_score(y_test,y_pred)\n",
    "    \n",
    "    end=time.time()\n",
    "    times_CBC.append(end-start)\n",
    "    \n",
    "    accuracy= score*100.\n",
    "    accuracies_CBC.append(accuracy)\n",
    "    \n",
    "    n_t=N_news*ts\n",
    "    \n",
    "    #DataFlair - Build confusion matrix\n",
    "    c_m=confusion_matrix(y_test,y_pred, labels=[0,1])\n",
    "    tn, fp, fn, tp = c_m.ravel()\n",
    "    tns.append(tn)\n",
    "    fps.append(fp)\n",
    "    fns.append(fn)\n",
    "    tps.append(tp) \n",
    "    print(\"# training news: %.f\" % n_t,\\\n",
    "         \"(%.2f %% of total)\" % (ts*100.),\\\n",
    "         \"accuracy: %.2f %%\" % accuracy ,tn, fp, fn, tp , \"time: %.f\" % (end-start) )\n",
    "    del x_train,x_test,y_train,y_test \n",
    "    del y_pred\n",
    "    del tfidf_train, tfidf_test\n",
    "    gc.collect()\n",
    "gc.collect()       "
   ]
  },
  {
   "cell_type": "markdown",
   "metadata": {},
   "source": [
    "## RandomForest Classifier   (to be optimized yet)\n"
   ]
  },
  {
   "cell_type": "markdown",
   "metadata": {},
   "source": [
    "A random forest is a meta estimator that fits a number of decision tree classifiers on various sub-samples of the dataset and uses averaging to improve the predictive accuracy and control over-fitting. The sub-sample size is controlled with the max_samples parameter if bootstrap=True (default), otherwise the whole dataset is used to build each tree."
   ]
  },
  {
   "cell_type": "markdown",
   "metadata": {},
   "source": [
    "Pretty slow for larger than 50% of dataset training"
   ]
  },
  {
   "cell_type": "code",
   "execution_count": 10,
   "metadata": {},
   "outputs": [
    {
     "name": "stdout",
     "output_type": "stream",
     "text": [
      "# training news: 74 (0.10 % of total) accuracy: 72.69 % 19497 16949 3242 34238 time: 26\n",
      "# training news: 159 (0.22 % of total) accuracy: 81.57 % 25874 10533 3077 34357 time: 27\n",
      "# training news: 343 (0.46 % of total) accuracy: 89.30 % 31941 4377 3505 33835 time: 27\n",
      "# training news: 738 (1.00 % of total) accuracy: 91.31 % 32410 3722 2646 34485 time: 29\n",
      "# training news: 1587 (2.14 % of total) accuracy: 93.45 % 32903 2787 1959 34764 time: 33\n",
      "# training news: 3416 (4.62 % of total) accuracy: 94.25 % 32263 2534 1525 34263 time: 35\n",
      "# training news: 7351 (9.93 % of total) accuracy: 94.90 % 30836 2012 1390 32412 time: 38\n",
      "# training news: 15819 (21.38 % of total) accuracy: 96.07 % 27194 1483 802 28703 time: 58\n",
      "# training news: 34042 (46.00 % of total) accuracy: 96.36 % 18722 920 533 19783 time: 122\n",
      "# training news: 73260 (99.00 % of total) accuracy: 96.62 % 356 13 12 359 time: 340\n"
     ]
    },
    {
     "data": {
      "text/plain": [
       "0"
      ]
     },
     "execution_count": 10,
     "metadata": {},
     "output_type": "execute_result"
    }
   ],
   "source": [
    "accuracies_RFC = []\n",
    "tns = []\n",
    "fps = [] \n",
    "fns = []\n",
    "tps = []\n",
    "times_RFC=[]\n",
    "depthRFC=None\n",
    "for ts in train_sizes: \n",
    "    start = time.time()\n",
    "    #use both articles and titles\n",
    "    x_train,x_test,y_train,y_test = \\\n",
    "        train_test_split(articles+titles,real_or_fake,train_size=ts, random_state=rs)\n",
    "\n",
    "    #DataFlair - Initialize a TfidfVectorizer\n",
    "    #we need to check the impact of max_df\n",
    "    tfidf_vectorizer=TfidfVectorizer(stop_words='english', max_df=0.7)\n",
    "\n",
    "    #DataFlair - Fit and transform train set, transform test set\n",
    "    tfidf_train=tfidf_vectorizer.fit_transform(x_train.values.astype('U')) \n",
    "    tfidf_test=tfidf_vectorizer.transform(x_test.values.astype('U'))\n",
    "\n",
    "    #DataFlair - Initialize a PassiveAggressiveClassifier\n",
    "    \n",
    "    #We need to check the impact of max_iter\n",
    "    pac=RandomForestClassifier(max_depth=depthRFC)\n",
    "    pac.fit(tfidf_train,y_train)\n",
    "\n",
    "    #DataFlair - Predict on the test set and calculate accuracy\n",
    "    y_pred=pac.predict(tfidf_test)\n",
    "    score=accuracy_score(y_test,y_pred)\n",
    "    \n",
    "    end=time.time()\n",
    "    times_RFC.append(end-start)\n",
    "    \n",
    "    accuracy= score*100.\n",
    "    accuracies_RFC.append(accuracy)\n",
    "    \n",
    "    n_t=N_news*ts\n",
    "    \n",
    "    #DataFlair - Build confusion matrix\n",
    "    c_m=confusion_matrix(y_test,y_pred, labels=[0,1])\n",
    "    tn, fp, fn, tp = c_m.ravel()\n",
    "    tns.append(tn)\n",
    "    fps.append(fp)\n",
    "    fns.append(fn)\n",
    "    tps.append(tp) \n",
    "    print(\"# training news: %.f\" % n_t,\\\n",
    "         \"(%.2f %% of total)\" % (ts*100.),\\\n",
    "         \"accuracy: %.2f %%\" % accuracy ,tn, fp, fn, tp , \"time: %.f\" % (end-start) )\n",
    "    del x_train,x_test,y_train,y_test \n",
    "    del y_pred\n",
    "    del tfidf_train, tfidf_test\n",
    "    gc.collect()\n",
    "gc.collect()        "
   ]
  },
  {
   "cell_type": "markdown",
   "metadata": {},
   "source": [
    "## Decision Tree Classifier (gini) (yet to be optimized)"
   ]
  },
  {
   "cell_type": "markdown",
   "metadata": {},
   "source": [
    "An extra-trees classifier.\n",
    "\n",
    "This class implements a meta estimator that fits a number of randomized decision trees (a.k.a. extra-trees) on various sub-samples of the dataset and uses averaging to improve the predictive accuracy and control over-fitting.\n",
    "\n",
    "#### High performances on small number of data, too slow then"
   ]
  },
  {
   "cell_type": "code",
   "execution_count": 11,
   "metadata": {},
   "outputs": [
    {
     "name": "stdout",
     "output_type": "stream",
     "text": [
      "# training news: 74 (0.10 % of total) accuracy: 79.32 % 25235 11211 4079 33401 time: 22\n",
      "# training news: 159 (0.22 % of total) accuracy: 90.83 % 31599 4808 1966 35468 time: 22\n",
      "# training news: 343 (0.46 % of total) accuracy: 90.11 % 31768 4550 2732 34608 time: 23\n",
      "# training news: 738 (1.00 % of total) accuracy: 92.52 % 32982 3150 2332 34799 time: 23\n",
      "# training news: 1587 (2.14 % of total) accuracy: 93.88 % 32627 3063 1371 35352 time: 24\n",
      "# training news: 3416 (4.62 % of total) accuracy: 94.62 % 32341 2456 1345 34443 time: 25\n",
      "# training news: 7351 (9.93 % of total) accuracy: 95.59 % 31070 1778 1158 32644 time: 26\n",
      "# training news: 15819 (21.38 % of total) accuracy: 96.27 % 27313 1364 807 28698 time: 33\n",
      "# training news: 34042 (46.00 % of total) accuracy: 97.16 % 18982 660 476 19840 time: 52\n",
      "# training news: 73260 (99.00 % of total) accuracy: 98.24 % 360 9 4 367 time: 126\n"
     ]
    },
    {
     "data": {
      "text/plain": [
       "0"
      ]
     },
     "execution_count": 11,
     "metadata": {},
     "output_type": "execute_result"
    }
   ],
   "source": [
    "accuracies_DTC = []\n",
    "tns = []\n",
    "fps = [] \n",
    "fns = []\n",
    "tps = []\n",
    "times_DTC=[]\n",
    "depthDTC=None\n",
    "for ts in train_sizes: \n",
    "    start = time.time()\n",
    "    #use both articles and titles\n",
    "    x_train,x_test,y_train,y_test = \\\n",
    "        train_test_split(articles+titles,real_or_fake,train_size=ts, random_state=rs)\n",
    "\n",
    "    #DataFlair - Initialize a TfidfVectorizer\n",
    "    #we need to check the impact of max_df\n",
    "    tfidf_vectorizer=TfidfVectorizer(stop_words='english', max_df=0.7)\n",
    "\n",
    "    #DataFlair - Fit and transform train set, transform test set\n",
    "    tfidf_train=tfidf_vectorizer.fit_transform(x_train.values.astype('U')) \n",
    "    tfidf_test=tfidf_vectorizer.transform(x_test.values.astype('U'))\n",
    "\n",
    "    #DataFlair - Initialize a PassiveAggressiveClassifier\n",
    "    \n",
    "    #We need to check the impact of max_iter\n",
    "    pac=DecisionTreeClassifier(criterion=\"gini\",max_depth=depthDTC)\n",
    "    pac.fit(tfidf_train,y_train)\n",
    "\n",
    "    #DataFlair - Predict on the test set and calculate accuracy\n",
    "    y_pred=pac.predict(tfidf_test)\n",
    "    score=accuracy_score(y_test,y_pred)\n",
    "    \n",
    "    end=time.time()\n",
    "    times_DTC.append(end-start)\n",
    "    \n",
    "    accuracy= score*100.\n",
    "    accuracies_DTC.append(accuracy)\n",
    "    \n",
    "    n_t=N_news*ts\n",
    "    \n",
    "    #DataFlair - Build confusion matrix\n",
    "    c_m=confusion_matrix(y_test,y_pred, labels=[0,1])\n",
    "    tn, fp, fn, tp = c_m.ravel()\n",
    "    tns.append(tn)\n",
    "    fps.append(fp)\n",
    "    fns.append(fn)\n",
    "    tps.append(tp)\n",
    "    print(\"# training news: %.f\" % n_t,\\\n",
    "         \"(%.2f %% of total)\" % (ts*100.),\\\n",
    "         \"accuracy: %.2f %%\" % accuracy ,tn, fp, fn, tp , \"time: %.f\" % (end-start) )\n",
    "    del x_train,x_test,y_train,y_test \n",
    "    del y_pred\n",
    "    del tfidf_train, tfidf_test\n",
    "    gc.collect()\n",
    "gc.collect()     "
   ]
  },
  {
   "cell_type": "markdown",
   "metadata": {},
   "source": [
    " ## Decision Tree Classifier (entropy) (yet to be optimized)"
   ]
  },
  {
   "cell_type": "markdown",
   "metadata": {},
   "source": [
    "Better time performances than with the gini method"
   ]
  },
  {
   "cell_type": "code",
   "execution_count": 12,
   "metadata": {},
   "outputs": [
    {
     "name": "stdout",
     "output_type": "stream",
     "text": [
      "# training news: 74 (0.10 % of total) accuracy: 71.48 % 23515 12931 8156 29324 time: 23\n",
      "# training news: 159 (0.22 % of total) accuracy: 90.70 % 31516 4891 1978 35456 time: 23\n",
      "# training news: 343 (0.46 % of total) accuracy: 90.72 % 31719 4599 2237 35103 time: 24\n",
      "# training news: 738 (1.00 % of total) accuracy: 91.69 % 32449 3683 2407 34724 time: 24\n",
      "# training news: 1587 (2.14 % of total) accuracy: 93.66 % 32602 3088 1501 35222 time: 25\n",
      "# training news: 3416 (4.62 % of total) accuracy: 94.06 % 32150 2647 1547 34241 time: 25\n",
      "# training news: 7351 (9.93 % of total) accuracy: 95.40 % 31012 1836 1232 32570 time: 26\n",
      "# training news: 15819 (21.38 % of total) accuracy: 96.25 % 27244 1433 749 28756 time: 30\n",
      "# training news: 34042 (46.00 % of total) accuracy: 97.00 % 18858 784 413 19903 time: 39\n",
      "# training news: 73260 (99.00 % of total) accuracy: 97.03 % 356 13 9 362 time: 73\n"
     ]
    },
    {
     "data": {
      "text/plain": [
       "0"
      ]
     },
     "execution_count": 12,
     "metadata": {},
     "output_type": "execute_result"
    }
   ],
   "source": [
    "accuracies_DTCe = []\n",
    "tns = []\n",
    "fps = [] \n",
    "fns = []\n",
    "tps = []\n",
    "times_DTCe=[]\n",
    "depthDTCe=None\n",
    "for ts in train_sizes: \n",
    "    start = time.time()\n",
    "    #use both articles and titles\n",
    "    x_train,x_test,y_train,y_test = \\\n",
    "        train_test_split(articles+titles,real_or_fake,train_size=ts, random_state=rs)\n",
    "\n",
    "    #DataFlair - Initialize a TfidfVectorizer\n",
    "    #we need to check the impact of max_df\n",
    "    tfidf_vectorizer=TfidfVectorizer(stop_words='english', max_df=0.7)\n",
    "\n",
    "    #DataFlair - Fit and transform train set, transform test set\n",
    "    tfidf_train=tfidf_vectorizer.fit_transform(x_train.values.astype('U')) \n",
    "    tfidf_test=tfidf_vectorizer.transform(x_test.values.astype('U'))\n",
    "\n",
    "    #DataFlair - Initialize a PassiveAggressiveClassifier\n",
    "    \n",
    "    #We need to check the impact of max_iter\n",
    "    pac=DecisionTreeClassifier(criterion=\"entropy\",max_depth=depthDTCe)\n",
    "    pac.fit(tfidf_train,y_train)\n",
    "\n",
    "    #DataFlair - Predict on the test set and calculate accuracy\n",
    "    y_pred=pac.predict(tfidf_test)\n",
    "    score=accuracy_score(y_test,y_pred)\n",
    "    \n",
    "    end=time.time()\n",
    "    times_DTCe.append(end-start)\n",
    "    \n",
    "    accuracy= score*100.\n",
    "    accuracies_DTCe.append(accuracy)\n",
    "    \n",
    "    n_t=N_news*ts\n",
    "    \n",
    "    #DataFlair - Build confusion matrix\n",
    "    c_m=confusion_matrix(y_test,y_pred, labels=[0,1])\n",
    "    tn, fp, fn, tp = c_m.ravel()\n",
    "    tns.append(tn)\n",
    "    fps.append(fp)\n",
    "    fns.append(fn)\n",
    "    tps.append(tp)\n",
    "    print(\"# training news: %.f\" % n_t,\\\n",
    "         \"(%.2f %% of total)\" % (ts*100.),\\\n",
    "         \"accuracy: %.2f %%\" % accuracy ,tn, fp, fn, tp , \"time: %.f\" % (end-start) )\n",
    "    del x_train,x_test,y_train,y_test \n",
    "    del y_pred\n",
    "    del tfidf_train, tfidf_test\n",
    "    gc.collect()\n",
    "gc.collect()     "
   ]
  },
  {
   "cell_type": "markdown",
   "metadata": {},
   "source": [
    "## ExtraTrees Classifier entropy (yet to be optimized)"
   ]
  },
  {
   "cell_type": "markdown",
   "metadata": {},
   "source": [
    "An extra-trees classifier.\n",
    "\n",
    "This class implements a meta estimator that fits a number of randomized decision trees (a.k.a. extra-trees) on various sub-samples of the dataset and uses averaging to improve the predictive accuracy and control over-fitting."
   ]
  },
  {
   "cell_type": "code",
   "execution_count": 13,
   "metadata": {},
   "outputs": [
    {
     "name": "stdout",
     "output_type": "stream",
     "text": [
      "# training news: 74 (0.10 % of total) accuracy: 75.59 % 23115 13331 4711 32769 time: 25\n",
      "# training news: 159 (0.22 % of total) accuracy: 82.00 % 25722 10685 2606 34828 time: 27\n",
      "# training news: 343 (0.46 % of total) accuracy: 90.14 % 32528 3790 3475 33865 time: 26\n",
      "# training news: 738 (1.00 % of total) accuracy: 90.03 % 31819 4313 2992 34139 time: 28\n",
      "# training news: 1587 (2.14 % of total) accuracy: 92.21 % 32764 2926 2713 34010 time: 29\n",
      "# training news: 3416 (4.62 % of total) accuracy: 93.41 % 32225 2572 2081 33707 time: 33\n",
      "# training news: 7351 (9.93 % of total) accuracy: 94.88 % 30805 2043 1368 32434 time: 40\n",
      "# training news: 15819 (21.38 % of total) accuracy: 95.33 % 26969 1708 1007 28498 time: 66\n",
      "# training news: 34042 (46.00 % of total) accuracy: 96.27 % 18709 933 556 19760 time: 165\n",
      "# training news: 73260 (99.00 % of total) accuracy: 96.22 % 353 16 12 359 time: 498\n"
     ]
    },
    {
     "data": {
      "text/plain": [
       "0"
      ]
     },
     "execution_count": 13,
     "metadata": {},
     "output_type": "execute_result"
    }
   ],
   "source": [
    "accuracies_ExTCe = []\n",
    "tns = []\n",
    "fps = [] \n",
    "fns = []\n",
    "tps = []\n",
    "times_ExTCe=[]\n",
    "depthExTCe=None\n",
    "for ts in train_sizes: \n",
    "    start = time.time()\n",
    "    #use both articles and titles\n",
    "    x_train,x_test,y_train,y_test = \\\n",
    "        train_test_split(articles+titles,real_or_fake,train_size=ts, random_state=rs)\n",
    "\n",
    "    #DataFlair - Initialize a TfidfVectorizer\n",
    "    #we need to check the impact of max_df\n",
    "    tfidf_vectorizer=TfidfVectorizer(stop_words='english', max_df=0.7)\n",
    "\n",
    "    #DataFlair - Fit and transform train set, transform test set\n",
    "    tfidf_train=tfidf_vectorizer.fit_transform(x_train.values.astype('U')) \n",
    "    tfidf_test=tfidf_vectorizer.transform(x_test.values.astype('U'))\n",
    "\n",
    "    #DataFlair - Initialize a PassiveAggressiveClassifier\n",
    "    \n",
    "    #We need to check the impact of max_iter\n",
    "    pac=ExtraTreesClassifier(criterion=\"entropy\",max_depth=depthExTCe)\n",
    "    pac.fit(tfidf_train,y_train)\n",
    "\n",
    "    #DataFlair - Predict on the test set and calculate accuracy\n",
    "    y_pred=pac.predict(tfidf_test)\n",
    "    score=accuracy_score(y_test,y_pred)\n",
    "    \n",
    "    end=time.time()\n",
    "    times_ExTCe.append(end-start)\n",
    "    \n",
    "    accuracy= score*100.\n",
    "    accuracies_ExTCe.append(accuracy)\n",
    "    \n",
    "    n_t=N_news*ts\n",
    "    \n",
    "    #DataFlair - Build confusion matrix\n",
    "    c_m=confusion_matrix(y_test,y_pred, labels=[0,1])\n",
    "    tn, fp, fn, tp = c_m.ravel()\n",
    "    tns.append(tn)\n",
    "    fps.append(fp)\n",
    "    fns.append(fn)\n",
    "    tps.append(tp)\n",
    "    print(\"# training news: %.f\" % n_t,\\\n",
    "         \"(%.2f %% of total)\" % (ts*100.),\\\n",
    "         \"accuracy: %.2f %%\" % accuracy ,tn, fp, fn, tp , \"time: %.f\" % (end-start) )\n",
    "    del x_train,x_test,y_train,y_test \n",
    "    del y_pred\n",
    "    del tfidf_train, tfidf_test\n",
    "    gc.collect()\n",
    "gc.collect()     "
   ]
  },
  {
   "cell_type": "markdown",
   "metadata": {},
   "source": [
    "## ExtraTrees Classifier gini (yet to be optimized)"
   ]
  },
  {
   "cell_type": "markdown",
   "metadata": {},
   "source": [
    "An extra-trees classifier.\n",
    "\n",
    "This class implements a meta estimator that fits a number of randomized decision trees (a.k.a. extra-trees) on various sub-samples of the dataset and uses averaging to improve the predictive accuracy and control over-fitting."
   ]
  },
  {
   "cell_type": "code",
   "execution_count": 15,
   "metadata": {},
   "outputs": [
    {
     "name": "stdout",
     "output_type": "stream",
     "text": [
      "# training news: 74 (0.10 % of total) accuracy: 74.70 % 22529 13917 4788 32692 time: 25\n",
      "# training news: 159 (0.22 % of total) accuracy: 83.00 % 27127 9280 3276 34158 time: 26\n",
      "# training news: 343 (0.46 % of total) accuracy: 87.17 % 31532 4786 4664 32676 time: 26\n",
      "# training news: 738 (1.00 % of total) accuracy: 90.62 % 32672 3460 3413 33718 time: 27\n",
      "# training news: 1587 (2.14 % of total) accuracy: 92.50 % 33014 2676 2754 33969 time: 28\n",
      "# training news: 3416 (4.62 % of total) accuracy: 93.60 % 32290 2507 2010 33778 time: 32\n",
      "# training news: 7351 (9.93 % of total) accuracy: 94.96 % 30958 1890 1472 32330 time: 39\n",
      "# training news: 15819 (21.38 % of total) accuracy: 95.39 % 27135 1542 1142 28363 time: 71\n",
      "# training news: 34042 (46.00 % of total) accuracy: 96.55 % 18811 831 549 19767 time: 179\n",
      "# training news: 73260 (99.00 % of total) accuracy: 97.03 % 357 12 10 361 time: 528\n"
     ]
    },
    {
     "data": {
      "text/plain": [
       "0"
      ]
     },
     "execution_count": 15,
     "metadata": {},
     "output_type": "execute_result"
    }
   ],
   "source": [
    "accuracies_ExTCg = []\n",
    "tns = []\n",
    "fps = [] \n",
    "fns = []\n",
    "tps = []\n",
    "times_ExTCg=[]\n",
    "depthExTCg=None\n",
    "for ts in train_sizes: \n",
    "    start = time.time()\n",
    "    #use both articles and titles\n",
    "    x_train,x_test,y_train,y_test = \\\n",
    "        train_test_split(articles+titles,real_or_fake,train_size=ts, random_state=rs)\n",
    "\n",
    "    #DataFlair - Initialize a TfidfVectorizer\n",
    "    #we need to check the impact of max_df\n",
    "    tfidf_vectorizer=TfidfVectorizer(stop_words='english', max_df=0.7)\n",
    "\n",
    "    #DataFlair - Fit and transform train set, transform test set\n",
    "    tfidf_train=tfidf_vectorizer.fit_transform(x_train.values.astype('U')) \n",
    "    tfidf_test=tfidf_vectorizer.transform(x_test.values.astype('U'))\n",
    "\n",
    "    #DataFlair - Initialize a PassiveAggressiveClassifier\n",
    "    \n",
    "    #We need to check the impact of max_iter\n",
    "    pac=ExtraTreesClassifier(criterion=\"gini\",max_depth=depthExTCg)\n",
    "    pac.fit(tfidf_train,y_train)\n",
    "\n",
    "    #DataFlair - Predict on the test set and calculate accuracy\n",
    "    y_pred=pac.predict(tfidf_test)\n",
    "    score=accuracy_score(y_test,y_pred)\n",
    "    \n",
    "    end=time.time()\n",
    "    times_ExTCg.append(end-start)\n",
    "    \n",
    "    accuracy= score*100.\n",
    "    accuracies_ExTCg.append(accuracy)\n",
    "    \n",
    "    n_t=N_news*ts\n",
    "    \n",
    "    #DataFlair - Build confusion matrix\n",
    "    c_m=confusion_matrix(y_test,y_pred, labels=[0,1])\n",
    "    tn, fp, fn, tp = c_m.ravel()\n",
    "    tns.append(tn)\n",
    "    fps.append(fp)\n",
    "    fns.append(fn)\n",
    "    tps.append(tp)\n",
    "    print(\"# training news: %.f\" % n_t,\\\n",
    "         \"(%.2f %% of total)\" % (ts*100.),\\\n",
    "         \"accuracy: %.2f %%\" % accuracy ,tn, fp, fn, tp , \"time: %.f\" % (end-start) )\n",
    "    del x_train,x_test,y_train,y_test \n",
    "    del y_pred\n",
    "    del tfidf_train, tfidf_test\n",
    "    gc.collect()\n",
    "gc.collect()     "
   ]
  },
  {
   "cell_type": "markdown",
   "metadata": {},
   "source": [
    "\n",
    "\n",
    "\n",
    "## Comparison plot of accuracy and time of total dataset analysis"
   ]
  },
  {
   "cell_type": "code",
   "execution_count": 16,
   "metadata": {},
   "outputs": [
    {
     "data": {
      "text/plain": [
       "<subprocess.Popen at 0x7fe99da28dc0>"
      ]
     },
     "execution_count": 16,
     "metadata": {},
     "output_type": "execute_result"
    },
    {
     "data": {
      "image/png": "[encoded data removed]",
      "text/plain": [
       "<Figure size 864x360 with 2 Axes>"
      ]
     },
     "metadata": {
      "needs_background": "light"
     },
     "output_type": "display_data"
    }
   ],
   "source": [
    "fig =plt.figure(1,figsize=(12,5))\n",
    "ax = fig.add_subplot(121)\n",
    "ax.set_xscale(\"log\")\n",
    "\n",
    "ax.plot(train_sizes*N_news,accuracies_PAC,label=\"$\\mathrm{TfidfV},\\;\\mathrm{PAC(50)}$\")\n",
    "ax.plot(train_sizes*N_news,accuracies_LinSVC,label=\"$\\mathrm{TfidfV},\\;\\mathrm{LinSVC(50)}$\")\n",
    "ax.plot(train_sizes*N_news,accuracies_MBC,label=\"$\\mathrm{TfidfV},\\;\\mathrm{MBC}(\\\\alpha=%.3f)$\" %alphaMBC)\n",
    "ax.plot(train_sizes*N_news,accuracies_CBC,label=\"$\\mathrm{TfidfV},\\;\\mathrm{CBC}(\\\\alpha=%.3f)$\" %alphaCBC)\n",
    "ax.plot(train_sizes*N_news,accuracies_RFC,label=\"$\\mathrm{TfidfV},\\;\\mathrm{RFC}()$\")\n",
    "ax.plot(train_sizes*N_news,accuracies_DTC,label=\"$\\mathrm{TfidfV},\\;\\mathrm{DTCgini}()$\")\n",
    "ax.plot(train_sizes*N_news,accuracies_DTCe,label=\"$\\mathrm{TfidfV},\\;\\mathrm{DTCentropy}()$\")\n",
    "ax.plot(train_sizes*N_news,accuracies_ExTCe,label=\"$\\mathrm{TfidfV},\\;\\mathrm{ExTCentropy}()$\")\n",
    "ax.plot(train_sizes*N_news,accuracies_ExTCg,label=\"$\\mathrm{TfidfV},\\;\\mathrm{ExTCgini}()$\")\n",
    "\n",
    "ax.tick_params(labelsize=18)\n",
    "ax.set_ylabel(\"$\\%\\:\\mathrm{Accuracy} $\", fontsize=20)\n",
    "ax.set_xlabel(\"$\\mathrm{Number\\;of\\;training\\;news}$\", fontsize=20)\n",
    "ax.yaxis.set_ticks_position('both')\n",
    "ax.xaxis.set_ticks_position('both')\n",
    "ax.legend(loc='best',  fontsize=9, frameon=False)\n",
    "\n",
    "\n",
    "ax = fig.add_subplot(122)\n",
    "ax.set_xscale(\"log\")\n",
    "ax.set_yscale(\"log\")\n",
    "ax.plot(train_sizes*N_news,times_PAC,label=\"$\\mathrm{TfidfV},\\;\\mathrm{PAC(50)}$\")\n",
    "ax.plot(train_sizes*N_news,times_LinSVC,label=\"$\\mathrm{TfidfV},\\;\\mathrm{LinSVC(50)}$\")\n",
    "ax.plot(train_sizes*N_news,times_MBC,label=\"$\\mathrm{TfidfV},\\;\\mathrm{MBC}(\\\\alpha=%.3f)$\" %alphaMBC)\n",
    "ax.plot(train_sizes*N_news,times_CBC,label=\"$\\mathrm{TfidfV},\\;\\mathrm{CBC}(\\\\alpha=%.3f)$\" %alphaCBC)\n",
    "ax.plot(train_sizes*N_news,times_RFC,label=\"$\\mathrm{TfidfV},\\;\\mathrm{RFC}()$\")\n",
    "ax.plot(train_sizes*N_news,times_DTC,label=\"$\\mathrm{TfidfV},\\;\\mathrm{DTCgini}()$\")\n",
    "ax.plot(train_sizes*N_news,times_DTCe,label=\"$\\mathrm{TfidfV},\\;\\mathrm{DTCentropy}()$\")\n",
    "ax.plot(train_sizes*N_news,times_ExTCe,label=\"$\\mathrm{TfidfV},\\;\\mathrm{ExTCentropy}()$\")\n",
    "ax.plot(train_sizes*N_news,times_ExTCg,label=\"$\\mathrm{TfidfV},\\;\\mathrm{ExTCgini}()$\")\n",
    "\n",
    "ax.tick_params(labelsize=18)\n",
    "ax.set_ylabel(\"$\\mathrm{Time\\;[s]} $\", fontsize=20)\n",
    "ax.set_xlabel(\"$\\mathrm{Number\\;of\\;training\\;news}$\", fontsize=20)\n",
    "ax.yaxis.set_ticks_position('both')\n",
    "ax.xaxis.set_ticks_position('both')\n",
    "ax.legend(loc='best',  fontsize=9, frameon=False)\n",
    "\n",
    "namefile=\"Classifiers.pdf\"\n",
    "fig.tight_layout()\n",
    "fig.savefig(namefile,format=\"pdf\")\n",
    "subprocess.Popen([\"evince\",namefile]) "
   ]
  },
  {
   "cell_type": "markdown",
   "metadata": {},
   "source": [
    "# Careful analysis of PAC and LinSVC"
   ]
  },
  {
   "cell_type": "code",
   "execution_count": 3,
   "metadata": {},
   "outputs": [],
   "source": [
    "Nt=30\n",
    "train_sizes = np.logspace(np.log10(0.001),np.log10(0.99),Nt)\n",
    "RS=[1,2,3,4,5] #random state to shuffle the news. One should average over these\n",
    "\n",
    "N_rand=len(RS)"
   ]
  },
  {
   "cell_type": "code",
   "execution_count": 4,
   "metadata": {},
   "outputs": [
    {
     "name": "stdout",
     "output_type": "stream",
     "text": [
      "PAC\n",
      "#training titles: 74 (0.10% of tot) accuracy: 76.91% , tn: 43.80 , fp: 5.50 , fn: 17.60 , tp:33.11 , time: 22 s\n",
      "#training titles: 2328 (3.15% of tot) accuracy: 93.46% , tn: 46.03 , fp: 3.25 , fn: 3.29 , tp:47.43 , time: 23 s\n",
      "#training titles: 73260 (99.00% of tot) accuracy: 97.70% , tn: 47.84 , fp: 1.62 , fn: 0.68 , tp:49.86 , time: 26 s\n",
      "LinSVC\n",
      "#training titles: 74 (0.10% of tot) accuracy: 79.08% , tn: 42.71 , fp: 6.58 , fn: 14.34 , tp:36.37 , time: 23 s\n",
      "#training titles: 2328 (3.15% of tot) accuracy: 93.84% , tn: 45.45 , fp: 3.83 , fn: 2.33 , tp:48.39 , time: 24 s\n",
      "#training titles: 73260 (99.00% of tot) accuracy: 97.70% , tn: 47.70 , fp: 1.76 , fn: 0.54 , tp:50.00 , time: 27 s\n",
      "****************************************************\n",
      "PAC\n",
      "#training titles: 74 (0.10% of tot) accuracy: 68.82% , tn: 47.18 , fp: 2.11 , fn: 29.07 , tp:21.64 , time: 23 s\n",
      "#training titles: 2328 (3.15% of tot) accuracy: 93.49% , tn: 46.10 , fp: 3.24 , fn: 3.27 , tp:47.39 , time: 23 s\n",
      "#training titles: 73260 (99.00% of tot) accuracy: 98.51% , tn: 46.89 , fp: 0.54 , fn: 0.95 , tp:51.62 , time: 27 s\n",
      "LinSVC\n",
      "#training titles: 74 (0.10% of tot) accuracy: 66.50% , tn: 47.68 , fp: 1.61 , fn: 31.90 , tp:18.82 , time: 22 s\n",
      "#training titles: 2328 (3.15% of tot) accuracy: 93.52% , tn: 45.32 , fp: 4.02 , fn: 2.46 , tp:48.20 , time: 25 s\n",
      "#training titles: 73260 (99.00% of tot) accuracy: 98.51% , tn: 46.76 , fp: 0.68 , fn: 0.81 , tp:51.76 , time: 31 s\n",
      "****************************************************\n"
     ]
    }
   ],
   "source": [
    "accuracies_PAC = np.zeros(Nt)\n",
    "tns_PAC = np.zeros(Nt)\n",
    "fps_PAC = np.zeros(Nt) \n",
    "fns_PAC = np.zeros(Nt)\n",
    "tps_PAC = np.zeros(Nt)\n",
    "times_PAC=np.zeros(Nt)\n",
    "\n",
    "accuracies_LinSVC = np.zeros(Nt)\n",
    "tns_LinSVC = np.zeros(Nt)\n",
    "fps_LinSVC = np.zeros(Nt) \n",
    "fns_LinSVC = np.zeros(Nt)\n",
    "tps_LinSVC = np.zeros(Nt)\n",
    "times_LinSVC=np.zeros(Nt)\n",
    "gc.collect()\n",
    "for rs in RS:\n",
    "    print(\"PAC\")\n",
    "    for i in range(Nt): \n",
    "        \n",
    "        ts=train_sizes[i]\n",
    "        start = time.time()\n",
    "        #use both articles and titles\n",
    "        x_train,x_test,y_train,y_test = \\\n",
    "            train_test_split(articles+titles,real_or_fake,train_size=ts, random_state=rs)\n",
    "\n",
    "        #DataFlair - Initialize a TfidfVectorizer\n",
    "        #we need to check the impact of max_df\n",
    "        tfidf_vectorizer=TfidfVectorizer(stop_words='english', max_df=0.7)\n",
    "\n",
    "        #DataFlair - Fit and transform train set, transform test set\n",
    "        tfidf_train=tfidf_vectorizer.fit_transform(x_train.values.astype('U')) \n",
    "        tfidf_test=tfidf_vectorizer.transform(x_test.values.astype('U'))\n",
    "\n",
    "        #DataFlair - Initialize a PassiveAggressiveClassifier\n",
    "\n",
    "        #We need to check the impact of max_iter\n",
    "        pac=PassiveAggressiveClassifier(max_iter=50,n_jobs=-1)\n",
    "        pac.fit(tfidf_train,y_train)\n",
    "\n",
    "        #DataFlair - Predict on the test set and calculate accuracy\n",
    "        y_pred=pac.predict(tfidf_test)\n",
    "        score=accuracy_score(y_test,y_pred)\n",
    "        end=time.time()\n",
    "        times_PAC[i]+=(end-start)\n",
    "        accuracy= score*100.\n",
    "        accuracies_PAC[i]+=accuracy\n",
    "\n",
    "        n_t=N_news*ts\n",
    "\n",
    "\n",
    "        #DataFlair - Build confusion matrix\n",
    "        c_m=confusion_matrix(y_test,y_pred, labels=[0,1])\n",
    "        tn, fp, fn, tp = c_m.ravel()\n",
    "        n_t=N_news*ts\n",
    "        n_test=N_news*(1.-ts)\n",
    "        #DataFlair - Build confusion matrix\n",
    "        c_m=confusion_matrix(y_test,y_pred, labels=[0,1])\n",
    "        tn, fp, fn, tp = c_m.ravel()\n",
    "        tns_PAC[i]+=(tn/n_test*100)\n",
    "        fps_PAC[i]+=(fp/n_test*100)\n",
    "        fns_PAC[i]+=(fn/n_test*100)\n",
    "        tps_PAC[i]+=(tp/n_test*100)\n",
    "        print(\"#training titles: %.f\" % n_t,\\\n",
    "        \"(%.2f%% of tot)\" % (ts*100.),\\\n",
    "        \"accuracy: %.2f%%\" % accuracy ,\", tn: %.2f%%\" %(tn/n_test*100),\\\n",
    "              \", fp: %.2f%%\" % (fp/n_test*100),\", fn: %.2f%%\" % (fn/n_test*100) ,\\\n",
    "              \", tp: %.2f%%\" % (tp/n_test*100) ,\", time: %.f s\" % (end-start) ) \n",
    "        del x_train,x_test,y_train,y_test \n",
    "        del y_pred\n",
    "        del tfidf_train, tfidf_test\n",
    "        gc.collect()\n",
    "   \n",
    "    print(\"LinSVC\")\n",
    "    for i in range(Nt):\n",
    "        \n",
    "        ts=train_sizes[i]\n",
    "        start = time.time()\n",
    "        #use both articles and titles\n",
    "        x_train,x_test,y_train,y_test = \\\n",
    "            train_test_split(articles+titles,real_or_fake,train_size=ts, random_state=rs)\n",
    "\n",
    "        #DataFlair - Initialize a TfidfVectorizer\n",
    "        #we need to check the impact of max_df\n",
    "        tfidf_vectorizer=TfidfVectorizer(stop_words='english', max_df=0.7)\n",
    "\n",
    "        #DataFlair - Fit and transform train set, transform test set\n",
    "        tfidf_train=tfidf_vectorizer.fit_transform(x_train.values.astype('U')) \n",
    "        tfidf_test=tfidf_vectorizer.transform(x_test.values.astype('U'))\n",
    "\n",
    "        #DataFlair - Initialize a PassiveAggressiveClassifier\n",
    "\n",
    "        #We need to check the impact of max_iter\n",
    "        pac=LinearSVC(max_iter=50)\n",
    "        pac.fit(tfidf_train,y_train)\n",
    "\n",
    "        #DataFlair - Predict on the test set and calculate accuracy\n",
    "        y_pred=pac.predict(tfidf_test)\n",
    "        score=accuracy_score(y_test,y_pred)\n",
    "\n",
    "        end=time.time()\n",
    "        times_LinSVC[i]+=(end-start)\n",
    "\n",
    "        accuracy= score*100.\n",
    "        accuracies_LinSVC[i]+=accuracy\n",
    "\n",
    "        n_t=N_news*ts\n",
    "        n_test=N_news*(1.-ts)\n",
    "        #DataFlair - Build confusion matrix\n",
    "        c_m=confusion_matrix(y_test,y_pred, labels=[0,1])\n",
    "        tn, fp, fn, tp = c_m.ravel()\n",
    "        tns_LinSVC[i]+=(tn/n_test*100)\n",
    "        fps_LinSVC[i]+=(fp/n_test*100)\n",
    "        fns_LinSVC[i]+=(fn/n_test*100)\n",
    "        tps_LinSVC[i]+=(tp/n_test*100)\n",
    "        print(\"#training titles: %.f\" % n_t,\\\n",
    "        \"(%.2f%% of tot)\" % (ts*100.),\\\n",
    "        \"accuracy: %.2f%%\" % accuracy ,\", tn: %.2f%%\" %(tn/n_test*100),\\\n",
    "              \", fp: %.2f%%\" % (fp/n_test*100),\", fn: %.2f%%\" % (fn/n_test*100) ,\\\n",
    "              \", tp: %.2f%%\" % (tp/n_test*100) ,\", time: %.f s\" % (end-start) ) \n",
    "        del x_train,x_test,y_train,y_test \n",
    "        del y_pred\n",
    "        del tfidf_train, tfidf_test\n",
    "        gc.collect()\n",
    "    gc.collect()\n",
    "    print(\"****************************************************\")\n",
    "### Average over random trials\n",
    "\n",
    "\n",
    "    \n",
    "accuracies_PAC /=  N_rand\n",
    "tns_PAC /=   N_rand\n",
    "fps_PAC /=   N_rand\n",
    "fns_PAC /=   N_rand\n",
    "tps_PAC /=   N_rand\n",
    "times_PAC/=  N_rand\n",
    "\n",
    "accuracies_LinSVC /=   N_rand\n",
    "tns_LinSVC /=   N_rand\n",
    "fps_LinSVC /=  N_rand\n",
    "fns_LinSVC /=   N_rand\n",
    "tps_LinSVC /=   N_rand\n",
    "times_LinSVC/=  N_rand"
   ]
  },
  {
   "cell_type": "code",
   "execution_count": 6,
   "metadata": {},
   "outputs": [
    {
     "data": {
      "text/plain": [
       "<subprocess.Popen at 0x7f4da56c78e0>"
      ]
     },
     "execution_count": 6,
     "metadata": {},
     "output_type": "execute_result"
    },
    {
     "data": {
      "image/png": "[encoded data removed]",
      "text/plain": [
       "<Figure size 864x648 with 4 Axes>"
      ]
     },
     "metadata": {
      "needs_background": "light"
     },
     "output_type": "display_data"
    }
   ],
   "source": [
    "fig =plt.figure(2,figsize=(12,9))\n",
    "ax = fig.add_subplot(221)\n",
    "ax.set_xscale(\"log\")\n",
    "\n",
    "ax.plot(train_sizes*N_news,accuracies_PAC,label=\"$ \\mathrm{PAC(50)}$\",color=\"b\")\n",
    "ax.plot(train_sizes*N_news,accuracies_LinSVC,label=\"$ \\mathrm{LinSVC(50)}$\",color=\"r\")\n",
    "\n",
    "ax.tick_params(labelsize=18)\n",
    "ax.set_ylabel(\"$\\%\\:\\mathrm{Accuracy} $\", fontsize=20)\n",
    "ax.set_xlabel(\"$\\mathrm{Number\\;of\\;training\\;news}$\", fontsize=20)\n",
    "ax.yaxis.set_ticks_position('both')\n",
    "ax.xaxis.set_ticks_position('both')\n",
    "ax.legend(loc='best',  fontsize=12, frameon=False)\n",
    "\n",
    "\n",
    "ax = fig.add_subplot(222)\n",
    "ax.set_xscale(\"log\")\n",
    "#ax.set_yscale(\"log\")\n",
    "ax.plot(train_sizes*N_news,times_PAC,label=\"$ \\mathrm{PAC(50)}$\",color=\"b\")\n",
    "ax.plot(train_sizes*N_news,times_LinSVC,label=\"$ \\mathrm{LinSVC(50)}$\",color=\"r\")\n",
    "\n",
    "ax.tick_params(labelsize=18)\n",
    "ax.set_ylabel(\"$\\mathrm{Time\\;[s]} $\", fontsize=20)\n",
    "ax.set_xlabel(\"$\\mathrm{Number\\;of\\;training\\;news}$\", fontsize=20)\n",
    "ax.yaxis.set_ticks_position('both')\n",
    "ax.xaxis.set_ticks_position('both')\n",
    "ax.legend(loc='best',  fontsize=12, frameon=False)\n",
    "\n",
    "ax = fig.add_subplot(223)\n",
    "ax.set_xscale(\"log\")\n",
    "#ax.set_yscale(\"log\")\n",
    "ax.plot(train_sizes*N_news,tps_PAC,label=\"$ \\mathrm{TP,\\;PAC(50)}$\",color=\"b\")\n",
    "ax.plot(train_sizes*N_news,tps_LinSVC,label=\"$ \\mathrm{TP,\\;LinSVC(50)}$\",color=\"r\")\n",
    "ax.plot(train_sizes*N_news,tns_PAC,label=\"$ \\mathrm{TN,\\;PAC(50)}$\",ls=\"--\",color=\"b\")\n",
    "ax.plot(train_sizes*N_news,tns_LinSVC,label=\"$ \\mathrm{TN,\\;LinSVC(50)}$\",ls=\"--\",color=\"r\")\n",
    "\n",
    "ax.tick_params(labelsize=18)\n",
    "ax.set_ylabel(\"$\\%\\:\\mathrm{TP,TN} $\", fontsize=20)\n",
    "ax.set_xlabel(\"$\\mathrm{Number\\;of\\;training\\;news}$\", fontsize=20)\n",
    "ax.yaxis.set_ticks_position('both')\n",
    "ax.xaxis.set_ticks_position('both')\n",
    "ax.legend(loc='best',  fontsize=12, frameon=False)\n",
    "\n",
    "ax = fig.add_subplot(224)\n",
    "ax.set_xscale(\"log\")\n",
    "#ax.set_yscale(\"log\")\n",
    "ax.plot(train_sizes*N_news,fps_PAC,label=\"$ \\mathrm{FP,\\;PAC(50)}$\",color=\"b\")\n",
    "ax.plot(train_sizes*N_news,fps_LinSVC,label=\"$ \\mathrm{FP,\\;LinSVC(50)}$\",color=\"r\")\n",
    "ax.plot(train_sizes*N_news,fns_PAC,label=\"$ \\mathrm{FN,\\;PAC(50)}$\",ls=\"--\",color=\"b\")\n",
    "ax.plot(train_sizes*N_news,fns_LinSVC,label=\"$ \\mathrm{FN,\\;LinSVC(50)}$\",ls=\"--\",color=\"r\")\n",
    "\n",
    "ax.tick_params(labelsize=18)\n",
    "ax.set_ylabel(\"$\\%\\:\\mathrm{FP,FN} $\", fontsize=20)\n",
    "ax.set_xlabel(\"$\\mathrm{Number\\;of\\;training\\;news}$\", fontsize=20)\n",
    "ax.yaxis.set_ticks_position('both')\n",
    "ax.xaxis.set_ticks_position('both')\n",
    "ax.legend(loc='best',  fontsize=12, frameon=False)\n",
    "\n",
    "namefile=\"PAC_vs_LinSVC.pdf\"\n",
    "fig.tight_layout()\n",
    "fig.savefig(namefile,format=\"pdf\")\n",
    "subprocess.Popen([\"evince\",namefile]) "
   ]
  },
  {
   "cell_type": "markdown",
   "metadata": {},
   "source": [
    "# Analysis based on titles and articles (use PAC for simplicity)"
   ]
  },
  {
   "cell_type": "markdown",
   "metadata": {},
   "source": [
    "There might be news which are classified in a different way depending on the title and the article.  "
   ]
  },
  {
   "cell_type": "code",
   "execution_count": 88,
   "metadata": {},
   "outputs": [],
   "source": [
    "def clickbaitness(df,\\\n",
    "                  preprocessor=TfidfVectorizer(stop_words='english', max_df=ts),\n",
    "                  classifier=PassiveAggressiveClassifier(max_iter=50,n_jobs=-1),rs=rs ):\n",
    "\n",
    "    real_or_fake=df.value\n",
    "    titles=df.title\n",
    "    articles=df.article\n",
    "    \n",
    "    #use titles\n",
    "    accuracies_t = []\n",
    "    tns_t = []\n",
    "    fps_t = [] \n",
    "    fns_t = []\n",
    "    tps_t = []\n",
    "    start=time.time()\n",
    "\n",
    "\n",
    "    \n",
    "    x_train_t,x_test_t,y_train_t,y_test_t = \\\n",
    "        train_test_split(titles,real_or_fake,train_size=ts, random_state=rs)\n",
    "\n",
    "    tfidf_vectorizer=preprocessor\n",
    "\n",
    "    tfidf_train_t=tfidf_vectorizer.fit_transform(x_train_t.values.astype('U')) \n",
    "    tfidf_test_t=tfidf_vectorizer.transform(x_test_t.values.astype('U'))\n",
    "\n",
    "\n",
    "    pac=classifier\n",
    "    pac.fit(tfidf_train_t,y_train_t)\n",
    "\n",
    "    y_pred_t=pac.predict(tfidf_test_t)\n",
    "    end=time.time()\n",
    "    score=accuracy_score(y_test_t,y_pred_t)\n",
    "\n",
    "    times_PAC.append(end-start)\n",
    "    accuracy= score*100.\n",
    "    accuracies_PAC.append(accuracy)\n",
    "\n",
    "    n_t=N_news*ts\n",
    "\n",
    "\n",
    "    #DataFlair - Build confusion matrix\n",
    "    c_m=confusion_matrix(y_test_t,y_pred_t, labels=[0,1])\n",
    "    tn_t, fp_t, fn_t, tp_t = c_m.ravel()\n",
    "    tns_t.append(tn_t)\n",
    "    fps_t.append(fp_t)\n",
    "    fns_t.append(fn_t)\n",
    "    tps_t.append(tp_t)\n",
    "    print(\"#training titles: %.f\" % n_t,\\\n",
    "         \"(%.2f%% of tot)\" % (ts*100.),\\\n",
    "         \"accuracy: %.2f%%\" % accuracy ,\", tn:\",tn_t,\", fp:\", fp_t,\", fn:\", fn_t,\", tp:\", tp_t ,\", time: %.f s\" % (end-start) ) \n",
    "\n",
    "    gc.collect()\n",
    "    \n",
    "    \n",
    "    #use articles\n",
    "    accuracies_a = []\n",
    "    tns_a = []\n",
    "    fps_a = [] \n",
    "    fns_a = []\n",
    "    tps_a = []\n",
    "\n",
    "    start=time.time()\n",
    "\n",
    "\n",
    "    x_train_a,x_test_a,y_train_a,y_test_a = \\\n",
    "        train_test_split(articles,real_or_fake,train_size=ts, random_state=rs)\n",
    "\n",
    "    tfidf_vectorizer=TfidfVectorizer(stop_words='english', max_df=0.7)\n",
    "\n",
    "    tfidf_train_a=tfidf_vectorizer.fit_transform(x_train_a.values.astype('U')) \n",
    "    tfidf_test_a=tfidf_vectorizer.transform(x_test_a.values.astype('U'))\n",
    "\n",
    "\n",
    "    pac=PassiveAggressiveClassifier(max_iter=50,n_jobs=-1)\n",
    "    pac.fit(tfidf_train_a,y_train_a)\n",
    "\n",
    "    y_pred_a=pac.predict(tfidf_test_a)\n",
    "    end=time.time()\n",
    "    score=accuracy_score(y_test_a,y_pred_a)\n",
    "\n",
    "    times_PAC.append(end-start)\n",
    "    accuracy= score*100.\n",
    "    accuracies_PAC.append(accuracy)\n",
    "\n",
    "    n_a=N_news*ts\n",
    "\n",
    "\n",
    "    #DataFlair - Build confusion matrix\n",
    "    c_m_a=confusion_matrix(y_test_a,y_pred_a, labels=[0,1])\n",
    "    tn_a, fp_a, fn_a, tp_a = c_m.ravel()\n",
    "    tns_a.append(tn_a)\n",
    "    fps_a.append(fp_a)\n",
    "    fns_a.append(fn_a)\n",
    "    tps_a.append(tp_a)\n",
    "    print(\"#training articles: %.f\" % n_a,\\\n",
    "         \"(%.2f%% of tot)\" % (ts*100.),\\\n",
    "         \"accuracy: %.2f%%\" % accuracy ,\", tn:\",tn_a,\"fp:\", fp_a,\", fn:\", fn_a,\", tp:\", tp_a , \", time: %.f s\" % (end-start) )\n",
    "    gc.collect()      \n",
    "    \n",
    "    \n",
    "    \n",
    "    #now analyze the predictions\n",
    "    t_fake_a_real_n_real=0\n",
    "    t_fake_a_real_n_fake=0\n",
    "    t_real_a_fake_n_real=0\n",
    "    t_real_a_fake_n_fake=0\n",
    "    agreement_n_fake=0\n",
    "    agreement_n_real=0\n",
    "\n",
    "    N_tested_news=len(y_test_a.values)\n",
    "    for i in range(len(y_pred_a)):\n",
    "        yp_a=y_pred_a[i]\n",
    "        yp_t=y_pred_t[i]\n",
    "        d_a=y_test_a.values[i]\n",
    "        d_t=y_test_t.values[i]\n",
    "        #check if d_a=d_t\n",
    "\n",
    "        if(d_a != d_t):\n",
    "            print(\"Titles and articles are mismatched\")\n",
    "            return\n",
    "        if(yp_a==yp_t and d_a==1):\n",
    "            agreement_n_real+=1\n",
    "        elif(yp_a==yp_t and d_a==0):\n",
    "            agreement_n_fake+=1\n",
    "        elif(yp_a!=yp_t and d_a==1):\n",
    "            if(yp_t==1):\n",
    "                t_real_a_fake_n_real+=1\n",
    "            else:\n",
    "                t_fake_a_real_n_real+=1\n",
    "        elif(yp_a!=yp_t and d_a==0):\n",
    "            if(yp_t==1):\n",
    "                t_real_a_fake_n_fake+=1\n",
    "            else:\n",
    "                t_fake_a_real_n_fake+=1\n",
    "    \n",
    "    pos_clickbait=(t_fake_a_real_n_real/N_tested_news*100.)\n",
    "    neg_clickbait=( t_real_a_fake_n_fake/N_tested_news*100.)\n",
    "    cheating=(t_fake_a_real_n_fake/N_tested_news*100.)\n",
    "    bad_written=(t_real_a_fake_n_real/N_tested_news*100.)\n",
    "    agreement_real=( agreement_n_real/N_tested_news*100.)\n",
    "    agreement_fake=(agreement_n_fake/N_tested_news*100.)\n",
    "    tot_agreement=((agreement_n_fake+agreement_n_real)/N_tested_news*100.)\n",
    "    \n",
    "    return pos_clickbait,neg_clickbait,cheating,bad_written,agreement_real,agreement_fake,tot_agreement"
   ]
  },
  {
   "cell_type": "code",
   "execution_count": 92,
   "metadata": {},
   "outputs": [
    {
     "name": "stdout",
     "output_type": "stream",
     "text": [
      "#training titles: 15540 (70.00% of tot) accuracy: 90.22% , tn: 9897 , fp: 1167 , fn: 1005 , tp: 10131 , time: 2 s\n",
      "#training articles: 15540 (70.00% of tot) accuracy: 96.16% , tn: 9897 fp: 1167 , fn: 1005 , tp: 10131 , time: 25 s\n"
     ]
    }
   ],
   "source": [
    "rs=11 #random state\n",
    "ts=0.7 #test size\n",
    "\n",
    "pos_clickbait,neg_clickbait,cheating,bad_written,\\\n",
    "agreement_real,agreement_fake,tot_agreement\\\n",
    "        =clickbaitness(df,\\\n",
    "              TfidfVectorizer(stop_words='english', max_df=0.7),\\\n",
    "              PassiveAggressiveClassifier(max_iter=50,n_jobs=-1),\\\n",
    "              rs)\n",
    "   \n",
    "    "
   ]
  },
  {
   "cell_type": "code",
   "execution_count": 93,
   "metadata": {},
   "outputs": [
    {
     "name": "stdout",
     "output_type": "stream",
     "text": [
      "probable clickbait (positive, to attract readers) -> 4.06 %\n",
      "the content of article was convincing,title was right (cheat)-> 2.26 %\n",
      "the content of article was misleading, title was right (bad written news)-> 0.58 %\n",
      "probable clickbait (negative, to cheat readers) -> 4.72 %\n",
      "agreement between titles and articles, the news is REAL-> 45.53 %\n",
      "agreement between titles and articles, the news is FAKE-> 42.86 % \n",
      "total agreement 88.39 %\n"
     ]
    }
   ],
   "source": [
    "print(\"PAC:\")\n",
    "print(\"probable clickbait (positive, to attract readers) ->\",\"%.2f\" % pos_clickbait ,\"%\"\n",
    "    \"\\nthe content of article was convincing,title was right (cheat)->\",\"%.2f\" % cheating ,\"%\"\n",
    "    \"\\nthe content of article was misleading, title was right (bad written news)->\",\"%.2f\" %bad_written ,\"%\"\n",
    "    \"\\nprobable clickbait (negative, to cheat readers) ->\",\"%.2f\" % neg_clickbait,\"%\"\n",
    "    \"\\nagreement between titles and articles, the news is REAL->\",\"%.2f\" % agreement_real,\"%\"\n",
    "    \"\\nagreement between titles and articles, the news is FAKE->\",\"%.2f\" % agreement_fake,\"%\",\n",
    "     \"\\ntotal agreement\" ,\"%.2f\" % tot_agreement,\"%\",   ) "
   ]
  },
  {
   "cell_type": "code",
   "execution_count": 96,
   "metadata": {},
   "outputs": [
    {
     "name": "stdout",
     "output_type": "stream",
     "text": [
      "#training titles: 15540 (70.00% of tot) accuracy: 91.97% , tn: 10021 , fp: 1043 , fn: 740 , tp: 10396 , time: 2 s\n",
      "#training articles: 15540 (70.00% of tot) accuracy: 96.25% , tn: 10021 fp: 1043 , fn: 740 , tp: 10396 , time: 25 s\n"
     ]
    }
   ],
   "source": [
    "\n",
    "pos_clickbait,neg_clickbait,cheating,bad_written,\\\n",
    "agreement_real,agreement_fake,tot_agreement\\\n",
    "        =clickbaitness(df,\\\n",
    "              TfidfVectorizer(stop_words='english', max_df=0.7),\\\n",
    "              LinearSVC(max_iter=50),\\\n",
    "              rs)"
   ]
  },
  {
   "cell_type": "code",
   "execution_count": 97,
   "metadata": {},
   "outputs": [
    {
     "name": "stdout",
     "output_type": "stream",
     "text": [
      "LinearSVC:\n",
      "probable clickbait (positive, to attract readers) -> 2.89 %\n",
      "the content of article was convincing,title was right (cheat)-> 2.27 %\n",
      "the content of article was misleading, title was right (bad written news)-> 0.59 %\n",
      "probable clickbait (negative, to cheat readers) -> 4.25 %\n",
      "agreement between titles and articles, the news is REAL-> 46.68 %\n",
      "agreement between titles and articles, the news is FAKE-> 43.32 % \n",
      "total agreement 90.01 %\n"
     ]
    }
   ],
   "source": [
    "print(\"LinearSVC:\")\n",
    "print(\"probable clickbait (positive, to attract readers) ->\",\"%.2f\" % pos_clickbait ,\"%\"\n",
    "    \"\\nthe content of article was convincing,title was right (cheat)->\",\"%.2f\" % cheating ,\"%\"\n",
    "    \"\\nthe content of article was misleading, title was right (bad written news)->\",\"%.2f\" %bad_written ,\"%\"\n",
    "    \"\\nprobable clickbait (negative, to cheat readers) ->\",\"%.2f\" % neg_clickbait,\"%\"\n",
    "    \"\\nagreement between titles and articles, the news is REAL->\",\"%.2f\" % agreement_real,\"%\"\n",
    "    \"\\nagreement between titles and articles, the news is FAKE->\",\"%.2f\" % agreement_fake,\"%\",\n",
    "     \"\\ntotal agreement\" ,\"%.2f\" % tot_agreement,\"%\",   ) "
   ]
  },
  {
   "cell_type": "code",
   "execution_count": null,
   "metadata": {},
   "outputs": [],
   "source": []
  }
 ],
 "metadata": {
  "celltoolbar": "Raw Cell Format",
  "interpreter": {
   "hash": "31f2aee4e71d21fbe5cf8b01ff0e069b9275f58929596ceb00d14d90e3e16cd6"
  },
  "kernelspec": {
   "display_name": "Python 3",
   "language": "python",
   "name": "python3"
  },
  "language_info": {
   "codemirror_mode": {
    "name": "ipython",
    "version": 3
   },
   "file_extension": ".py",
   "mimetype": "text/x-python",
   "name": "python",
   "nbconvert_exporter": "python",
   "pygments_lexer": "ipython3",
   "version": "3.8.5"
  }
 },
 "nbformat": 4,
 "nbformat_minor": 4
}
